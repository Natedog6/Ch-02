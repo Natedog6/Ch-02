{
 "cells": [
  {
   "cell_type": "raw",
   "id": "a8b9b360-97b4-4697-94be-9e91ea8e17d0",
   "metadata": {},
   "source": [
    "Problem #5.1"
   ]
  },
  {
   "cell_type": "code",
   "execution_count": 1,
   "id": "7a030969-9240-4939-8b9a-4ce3d5890c1a",
   "metadata": {},
   "outputs": [
    {
     "name": "stdout",
     "output_type": "stream",
     "text": [
      "Python Programming\n",
      "Python\n",
      "Python \n",
      "Python Programmin\n",
      "['Python', 'Programming']\n",
      "Python\n",
      "Programming\n"
     ]
    }
   ],
   "source": [
    "cname = \"Python Programming\"\n",
    "\n",
    "print (cname)\n",
    "print (cname[:6])\n",
    "print (cname[:-11])\n",
    "print (cname[:-1])\n",
    "\n",
    "\n",
    "print (cname.split(\" \"))\n",
    "print (cname.split()[0])\n",
    "print (cname.split()[1])"
   ]
  },
  {
   "cell_type": "code",
   "execution_count": 3,
   "id": "4c07f15e-46b9-4443-8a76-3b206b0290de",
   "metadata": {},
   "outputs": [
    {
     "name": "stdout",
     "output_type": "stream",
     "text": [
      "Number of Livermore occurrence 1\n",
      "Number of          1 occurrence Livermore \n",
      "Index of Livermore 19\n",
      "Index of Livermore 19\n",
      "Livermore\n"
     ]
    }
   ],
   "source": [
    "string1 = 'Python Programming Livermore'\n",
    "substring = 'py'\n",
    "\n",
    "city = 'Livermore'\n",
    "cnt = string1.count(city)\n",
    "print ('Number of {1} occurrence {0}'.format(cnt, city))\n",
    "print (f'Number of {cnt:10} occurrence {city:10}')\n",
    "\n",
    "idx = string1.find('Livermore') \n",
    "print ('Index of Livermore', idx)\n",
    "idx = string1.find('Livermore', 8) \n",
    "print ('Index of Livermore', idx)\n",
    "\n",
    "print (string1[idx:idx+len(city)])"
   ]
  },
  {
   "cell_type": "code",
   "execution_count": 5,
   "id": "9818a5af-6c76-487b-9d29-86df0bd2e19d",
   "metadata": {},
   "outputs": [
    {
     "name": "stdout",
     "output_type": "stream",
     "text": [
      "['Python', ' Java', ' C++', ' Ruby', ' Rail', ' Java Script', ' PHP', ' Go', ' Gotlin']\n",
      "Python\n"
     ]
    }
   ],
   "source": [
    "languages = 'Python, Java, C++, Ruby, Rail, Java Script, PHP, Go, Gotlin'\n",
    "list_languages = languages.split(',')\n",
    "\n",
    "print (list_languages)\n",
    "print (list_languages[0])"
   ]
  },
  {
   "cell_type": "raw",
   "id": "f1715d2c-dd70-43d7-ad58-4ecb23e2bf2a",
   "metadata": {},
   "source": [
    "strip() methods"
   ]
  },
  {
   "cell_type": "code",
   "execution_count": 7,
   "id": "b483a0a6-640c-4403-b377-1da5830676f4",
   "metadata": {},
   "outputs": [
    {
     "data": {
      "text/plain": [
       "'Python Programming'"
      ]
     },
     "execution_count": 7,
     "metadata": {},
     "output_type": "execute_result"
    }
   ],
   "source": [
    "strval = 'Python Programming    '   \n",
    "## strval has the additional spaces after values\n",
    "\n",
    "strval = strval.strip() # now, the spaces after string value have been stripped\n",
    "strval"
   ]
  },
  {
   "cell_type": "code",
   "execution_count": 9,
   "id": "29d2b1c2-b23a-42fb-b389-2fae2382cf78",
   "metadata": {},
   "outputs": [
    {
     "name": "stdout",
     "output_type": "stream",
     "text": [
      "    Python   \n",
      "    Python\n",
      "Python   \n"
     ]
    }
   ],
   "source": [
    "## rstrip\n",
    "\n",
    "blank_padded_str = \"    Python   \"\n",
    "print (blank_padded_str)\n",
    "rstripped_str = blank_padded_str.rstrip(' ') \n",
    "print (rstripped_str)\n",
    "\n",
    "lstripped_str = blank_padded_str.lstrip(' ') \n",
    "print (lstripped_str)\n",
    "\n",
    "garbage_padded = '   Pyhton_+$?....'\n",
    "rstripped_str = garbage_padded.rstrip('_+?.')"
   ]
  },
  {
   "cell_type": "raw",
   "id": "8f17361b-97e4-4407-bfb4-f2acbac4764e",
   "metadata": {},
   "source": [
    "isalnum, isalpha, isdigit, isnumeric"
   ]
  },
  {
   "cell_type": "code",
   "execution_count": 11,
   "id": "41473975-be39-46eb-a7a7-c793f1ce00f2",
   "metadata": {},
   "outputs": [
    {
     "name": "stdout",
     "output_type": "stream",
     "text": [
      "True\n",
      "False\n",
      "True\n",
      "True\n",
      "True\n"
     ]
    }
   ],
   "source": [
    "val1 = 'Python'\n",
    "print (val1.isalpha())\n",
    "val1 = 'Python3'\n",
    "print (val1.isalpha())\n",
    "\n",
    "\n",
    "val2 = '94543'\n",
    "print (val2.isnumeric())\n",
    "print (val2.isdigit())\n",
    "print (val2.isdecimal())"
   ]
  },
  {
   "cell_type": "code",
   "execution_count": 13,
   "id": "03a51b1e-e810-4e56-8b52-f56d9c860f90",
   "metadata": {},
   "outputs": [
    {
     "name": "stdin",
     "output_type": "stream",
     "text": [
      "Enter your string 100\n",
      "Enter the serach keyword Wakkakaka\n"
     ]
    },
    {
     "name": "stdout",
     "output_type": "stream",
     "text": [
      "0\n"
     ]
    }
   ],
   "source": [
    "original_str = input('Enter your string')\n",
    "word_str = input('Enter the serach keyword')\n",
    "\n",
    "idx = original_str.find(word_str)\n",
    "print (original_str[idx: idx+len(word_str)])"
   ]
  },
  {
   "cell_type": "raw",
   "id": "84fbeb69-7e49-486b-af05-b80dca5af4b2",
   "metadata": {},
   "source": [
    "split()"
   ]
  },
  {
   "cell_type": "code",
   "execution_count": 15,
   "id": "6cd2020b-b764-4516-8d9f-d0552cc9e48c",
   "metadata": {},
   "outputs": [
    {
     "data": {
      "text/plain": [
       "['Python', 'Java', 'PHP', 'C++', 'R', 'SQL']"
      ]
     },
     "execution_count": 15,
     "metadata": {},
     "output_type": "execute_result"
    }
   ],
   "source": [
    "strval = \"Python Java PHP C++ R SQL\"\n",
    "strval.split()"
   ]
  },
  {
   "cell_type": "code",
   "execution_count": 17,
   "id": "2b9bc842-9401-470d-8a92-680cc3474c83",
   "metadata": {},
   "outputs": [
    {
     "name": "stdout",
     "output_type": "stream",
     "text": [
      "['Python', 'Java', 'PHP', 'C++', 'R', 'SQL']\n"
     ]
    }
   ],
   "source": [
    "strval = \"Python Java PHP C++ R SQL\"\n",
    "strval = strval.split()\n",
    "print (strval)"
   ]
  },
  {
   "cell_type": "raw",
   "id": "d6b8fb33-12b3-453a-bd49-673ecd87df40",
   "metadata": {},
   "source": [
    "Problem #5.2"
   ]
  },
  {
   "cell_type": "code",
   "execution_count": 43,
   "id": "8b7e4007-9288-4c14-86f8-04a072078b2e",
   "metadata": {},
   "outputs": [
    {
     "data": {
      "text/plain": [
       "'Nathaniel'"
      ]
     },
     "execution_count": 43,
     "metadata": {},
     "output_type": "execute_result"
    }
   ],
   "source": [
    "name = \"Nathaniel Lopez\"\n",
    "fname = name[:9]\n",
    "fname"
   ]
  },
  {
   "cell_type": "code",
   "execution_count": 53,
   "id": "5c3e1e8d-66ee-4d63-b562-42d63c215ae1",
   "metadata": {},
   "outputs": [
    {
     "data": {
      "text/plain": [
       "'Lopez'"
      ]
     },
     "execution_count": 53,
     "metadata": {},
     "output_type": "execute_result"
    }
   ],
   "source": [
    "name = \"Nathaniel Lopez\"\n",
    "lname = name[10:]\n",
    "lname"
   ]
  },
  {
   "cell_type": "code",
   "execution_count": 65,
   "id": "a22a81f2-326a-4861-b2ca-3e78f399b2fc",
   "metadata": {},
   "outputs": [
    {
     "data": {
      "text/plain": [
       "'Nathaniel'"
      ]
     },
     "execution_count": 65,
     "metadata": {},
     "output_type": "execute_result"
    }
   ],
   "source": [
    "new_name = \"Lopez Nathaniel\"\n",
    "lnew_name = new_name[6:]\n",
    "lnew_name"
   ]
  },
  {
   "cell_type": "code",
   "execution_count": 67,
   "id": "4a8547bb-c74f-435e-9632-cbb15adff54f",
   "metadata": {},
   "outputs": [
    {
     "data": {
      "text/plain": [
       "'Lopez'"
      ]
     },
     "execution_count": 67,
     "metadata": {},
     "output_type": "execute_result"
    }
   ],
   "source": [
    "new_name = \"Lopez Nathaniel\"\n",
    "fnew_name = new_name[:5]\n",
    "fnew_name"
   ]
  },
  {
   "cell_type": "raw",
   "id": "1aa4d2bd-1520-4e57-b886-3c26a7d35894",
   "metadata": {},
   "source": [
    "Problem #5.3"
   ]
  },
  {
   "cell_type": "code",
   "execution_count": 71,
   "id": "c3a6912b-56ce-4cf4-a3bb-5fe5d2db0b15",
   "metadata": {},
   "outputs": [
    {
     "data": {
      "text/plain": [
       "9"
      ]
     },
     "execution_count": 71,
     "metadata": {},
     "output_type": "execute_result"
    }
   ],
   "source": [
    "name = 'Nathaniel Lopez'\n",
    "found_index = name.find(' ')\n",
    "found_index"
   ]
  },
  {
   "cell_type": "code",
   "execution_count": 95,
   "id": "a9e33f14-3985-4e22-bcb7-cfd499f17b52",
   "metadata": {},
   "outputs": [
    {
     "data": {
      "text/plain": [
       "9"
      ]
     },
     "execution_count": 95,
     "metadata": {},
     "output_type": "execute_result"
    }
   ],
   "source": [
    "email_str = 'Nathanile@company.com'\n",
    "found_idx = email_str.index('@')\n",
    "found_idx"
   ]
  },
  {
   "cell_type": "code",
   "execution_count": 99,
   "id": "81b39c8d-4d25-421b-a8ed-66e03da11e9d",
   "metadata": {},
   "outputs": [
    {
     "data": {
      "text/plain": [
       "9"
      ]
     },
     "execution_count": 99,
     "metadata": {},
     "output_type": "execute_result"
    }
   ],
   "source": [
    "email_str = 'noreply@database.company.edu'\n",
    "idx_dot = email_str.index('@')\n",
    "found_idx"
   ]
  },
  {
   "cell_type": "code",
   "execution_count": 101,
   "id": "e99ac907-b04b-4aa8-820d-22cada2e8d7e",
   "metadata": {},
   "outputs": [
    {
     "name": "stdout",
     "output_type": "stream",
     "text": [
      "False\n"
     ]
    }
   ],
   "source": [
    "email_id = '2myemail'\n",
    "result = email_id[0].isalpha()\n",
    "print(result)"
   ]
  },
  {
   "cell_type": "code",
   "execution_count": 111,
   "id": "1464cb16-5911-461b-88ae-9c4d4db5ba74",
   "metadata": {},
   "outputs": [
    {
     "data": {
      "text/plain": [
       "True"
      ]
     },
     "execution_count": 111,
     "metadata": {},
     "output_type": "execute_result"
    }
   ],
   "source": [
    "email_id = 'myemail.1234'\n",
    "result = email_id[-4:].isdigit()\n",
    "found_result = result\n",
    "found_result"
   ]
  },
  {
   "cell_type": "raw",
   "id": "0e5e12f6-fd8c-44cc-b325-4c86b99d1d42",
   "metadata": {},
   "source": [
    "Problem #5.4"
   ]
  },
  {
   "cell_type": "code",
   "execution_count": 113,
   "id": "1f7312fb-913b-40fe-87e4-526e076e4759",
   "metadata": {},
   "outputs": [
    {
     "name": "stdout",
     "output_type": "stream",
     "text": [
      "['Python', 'C++', 'HTML', 'PHP', 'JAVA']\n"
     ]
    }
   ],
   "source": [
    "original_str = 'Python C++ HTML PHP JAVA'\n",
    "split_str = original_str.split()\n",
    "print (split_str)"
   ]
  },
  {
   "cell_type": "code",
   "execution_count": 119,
   "id": "63aac531-ac78-46f2-a6a5-ec082101d8b6",
   "metadata": {},
   "outputs": [
    {
     "data": {
      "text/plain": [
       "['Nathaniel', 'Lopez', 'Cruz', 'Demure']"
      ]
     },
     "execution_count": 119,
     "metadata": {},
     "output_type": "execute_result"
    }
   ],
   "source": [
    "original_str = 'Nathaniel/Lopez/Cruz/Demure'\n",
    "split_str =original_str.split('/')\n",
    "split_str"
   ]
  },
  {
   "cell_type": "code",
   "execution_count": 138,
   "id": "9f996eae-7533-41b6-931c-99c923bd124d",
   "metadata": {},
   "outputs": [
    {
     "data": {
      "text/plain": [
       "'first+second+third'"
      ]
     },
     "execution_count": 138,
     "metadata": {},
     "output_type": "execute_result"
    }
   ],
   "source": [
    "str1 = 'first'\n",
    "str2 = 'second'\n",
    "str3 = 'third'\n",
    "merged_str = str1 + '+' + str2 + '+' + str3 \n",
    "merged_str"
   ]
  }
 ],
 "metadata": {
  "kernelspec": {
   "display_name": "Python 3 (ipykernel)",
   "language": "python",
   "name": "python3"
  },
  "language_info": {
   "codemirror_mode": {
    "name": "ipython",
    "version": 3
   },
   "file_extension": ".py",
   "mimetype": "text/x-python",
   "name": "python",
   "nbconvert_exporter": "python",
   "pygments_lexer": "ipython3",
   "version": "3.12.4"
  }
 },
 "nbformat": 4,
 "nbformat_minor": 5
}
