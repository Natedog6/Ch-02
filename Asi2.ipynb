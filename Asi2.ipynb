{
 "cells": [
  {
   "cell_type": "raw",
   "id": "f93121c9-a003-4150-86c4-7b435cdf7e65",
   "metadata": {},
   "source": [
    "Problem #2.0"
   ]
  },
  {
   "cell_type": "code",
   "execution_count": 1,
   "id": "a248c952-961b-4f43-b9a8-63e5c3784b00",
   "metadata": {},
   "outputs": [],
   "source": [
    "width = 10\n",
    "length = 5\n",
    "\n",
    "length =10"
   ]
  },
  {
   "cell_type": "code",
   "execution_count": 2,
   "id": "b90d8462-bd7b-4d38-8427-7d9d6f62b881",
   "metadata": {},
   "outputs": [
    {
     "data": {
      "text/plain": [
       "'Python'"
      ]
     },
     "execution_count": 2,
     "metadata": {},
     "output_type": "execute_result"
    }
   ],
   "source": [
    "class_name = 'Python'\n",
    "class_name"
   ]
  },
  {
   "cell_type": "code",
   "execution_count": 3,
   "id": "f9993dab-95b5-4ff5-ae9b-234fe1b7299f",
   "metadata": {},
   "outputs": [
    {
     "data": {
      "text/plain": [
       "int"
      ]
     },
     "execution_count": 3,
     "metadata": {},
     "output_type": "execute_result"
    }
   ],
   "source": [
    "type(width)"
   ]
  },
  {
   "cell_type": "code",
   "execution_count": 4,
   "id": "e8b24f34-c825-4fee-aff6-c143a08cc27e",
   "metadata": {},
   "outputs": [
    {
     "data": {
      "text/plain": [
       "str"
      ]
     },
     "execution_count": 4,
     "metadata": {},
     "output_type": "execute_result"
    }
   ],
   "source": [
    "type(class_name)"
   ]
  },
  {
   "cell_type": "code",
   "execution_count": 5,
   "id": "a2a521dd-3082-477e-be43-d5d36d276a68",
   "metadata": {},
   "outputs": [
    {
     "name": "stdout",
     "output_type": "stream",
     "text": [
      "Hello World\n"
     ]
    }
   ],
   "source": [
    "print (\"Hello World\")"
   ]
  },
  {
   "cell_type": "raw",
   "id": "599ecdd6-61eb-4c82-b961-f8921ad8e3c2",
   "metadata": {},
   "source": [
    "Problem #2.1"
   ]
  },
  {
   "cell_type": "raw",
   "id": "dec968cc-3861-4cfc-842c-d58203ab54bf",
   "metadata": {},
   "source": [
    "my_school = \"#1\"\n",
    "my_school"
   ]
  },
  {
   "cell_type": "raw",
   "id": "9198e4ef-6c66-471f-887c-aa1b7f6ebfa6",
   "metadata": {},
   "source": [
    "Problem #2.2"
   ]
  },
  {
   "cell_type": "code",
   "execution_count": 6,
   "id": "545d1ef5-41f0-406a-b584-c2d47288da5a",
   "metadata": {},
   "outputs": [
    {
     "name": "stdout",
     "output_type": "stream",
     "text": [
      "The sum of 100 and 90 is: 190\n"
     ]
    }
   ],
   "source": [
    "score1 = 100\n",
    "score2 = 90\n",
    "sum_result = score1 + score2\n",
    "print(\"The sum of\", score1, \"and\", score2, \"is:\", sum_result)"
   ]
  },
  {
   "cell_type": "raw",
   "id": "b0d85e52-1f61-43ba-aa6a-f4745ece83fa",
   "metadata": {},
   "source": [
    "Problem #2.3"
   ]
  },
  {
   "cell_type": "code",
   "execution_count": 7,
   "id": "bfac5365-78e7-4924-bba6-d3dd2c42cc19",
   "metadata": {},
   "outputs": [
    {
     "name": "stdout",
     "output_type": "stream",
     "text": [
      "The sum of 100 and 50.99 is: 150.99\n"
     ]
    }
   ],
   "source": [
    "Unit1 = 100\n",
    "Unit2 = 50.99\n",
    "sum_result = Unit1 + Unit2\n",
    "print(\"The sum of\", Unit1, \"and\", Unit2, \"is:\", sum_result)"
   ]
  },
  {
   "cell_type": "raw",
   "id": "250409f8-3f5b-4269-af16-a7c1199a3dbe",
   "metadata": {},
   "source": [
    "Problem #2.4"
   ]
  },
  {
   "cell_type": "code",
   "execution_count": 8,
   "id": "83a4a061-2f34-4df4-924e-6c12186bdc96",
   "metadata": {},
   "outputs": [
    {
     "name": "stdout",
     "output_type": "stream",
     "text": [
      "The sum of 100 and 120 is: 220\n"
     ]
    }
   ],
   "source": [
    "Python = 100\n",
    "Programming = 120\n",
    "sum_result = Python + Programming \n",
    "print(\"The sum of\", Python, \"and\", Programming, \"is:\", sum_result)"
   ]
  },
  {
   "cell_type": "code",
   "execution_count": 29,
   "id": "a558fe7d-3df7-4814-ac80-11436f823068",
   "metadata": {},
   "outputs": [
    {
     "name": "stdout",
     "output_type": "stream",
     "text": [
      "The value of F when C is 30 is: 62\n"
     ]
    }
   ],
   "source": [
    "C = 30\n",
    "F = (9 // 5) * C + 32\n",
    "print(\"The value of F when C is\", C, \"is:\", F)"
   ]
  },
  {
   "cell_type": "raw",
   "id": "a1ef7dcd-42a8-4627-9312-73594e76e0ca",
   "metadata": {},
   "source": [
    "Problem #2.6"
   ]
  },
  {
   "cell_type": "code",
   "execution_count": 47,
   "id": "a6bba8df-aa81-4759-80a4-c14a340265db",
   "metadata": {},
   "outputs": [
    {
     "name": "stdout",
     "output_type": "stream",
     "text": [
      "The final value after taking off 20 % is: 160.0\n"
     ]
    }
   ],
   "source": [
    "Money = 200\n",
    "Percent_off = 20\n",
    "amount_to_subtract = Money * (Percent_off / 100)\n",
    "final_value = Money - amount_to_subtract\n",
    "print(\"The final value after taking off\", Percent_off, \"% is:\", final_value)"
   ]
  },
  {
   "cell_type": "raw",
   "id": "60736489-7a28-4628-8efd-b5d98b54187f",
   "metadata": {},
   "source": [
    "Problem #2.7"
   ]
  },
  {
   "cell_type": "code",
   "execution_count": 49,
   "id": "ef39303a-d74e-49e2-baab-8cf952c20376",
   "metadata": {},
   "outputs": [
    {
     "name": "stdout",
     "output_type": "stream",
     "text": [
      "The average of 100 , 50 , 200 is: 116.66666666666667\n"
     ]
    }
   ],
   "source": [
    "num1 = 100\n",
    "num2 = 50\n",
    "num3 = 200\n",
    "total_sum = num1 + num2 + num3\n",
    "average = total_sum / 3\n",
    "print(\"The average of\", num1, \",\", num2, \",\", num3, \"is:\", average)"
   ]
  }
 ],
 "metadata": {
  "kernelspec": {
   "display_name": "Python 3 (ipykernel)",
   "language": "python",
   "name": "python3"
  },
  "language_info": {
   "codemirror_mode": {
    "name": "ipython",
    "version": 3
   },
   "file_extension": ".py",
   "mimetype": "text/x-python",
   "name": "python",
   "nbconvert_exporter": "python",
   "pygments_lexer": "ipython3",
   "version": "3.12.4"
  }
 },
 "nbformat": 4,
 "nbformat_minor": 5
}
