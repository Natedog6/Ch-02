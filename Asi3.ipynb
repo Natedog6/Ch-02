{
 "cells": [
  {
   "cell_type": "raw",
   "id": "21954614-0dc0-4311-a496-6ed76b93da8a",
   "metadata": {},
   "source": [
    "Problem #3.1"
   ]
  },
  {
   "cell_type": "raw",
   "id": "2ee16d9e-ba54-47ed-a680-72eb56037692",
   "metadata": {},
   "source": [
    "Formatting"
   ]
  },
  {
   "cell_type": "code",
   "execution_count": 7,
   "id": "0e616903-0390-487a-99a9-9727feceb9b3",
   "metadata": {},
   "outputs": [
    {
     "name": "stdout",
     "output_type": "stream",
     "text": [
      "123456790\n",
      "      123456789\n",
      "123456789.00\n"
     ]
    }
   ],
   "source": [
    "print (123456790)\n",
    "print (format(123456789, '15d'))\n",
    "print (format(123456789, '.2f'))"
   ]
  },
  {
   "cell_type": "code",
   "execution_count": 9,
   "id": "d8658b0f-519e-49bf-9997-4539cfcf3cb2",
   "metadata": {},
   "outputs": [
    {
     "name": "stdout",
     "output_type": "stream",
     "text": [
      "1.234568e+04\n",
      "1.23e+04\n"
     ]
    }
   ],
   "source": [
    "print (format(12345.6789, 'e'))\n",
    "print (format(12345.6789, '.2e'))"
   ]
  },
  {
   "cell_type": "code",
   "execution_count": 18,
   "id": "4ef0fbe1-8b93-4286-be7b-32feff9fb835",
   "metadata": {},
   "outputs": [
    {
     "name": "stdout",
     "output_type": "stream",
     "text": [
      "123,456,789.12\n"
     ]
    }
   ],
   "source": [
    "print (format(123456789.12345, ',.2f'))"
   ]
  },
  {
   "cell_type": "code",
   "execution_count": 22,
   "id": "89c10d3b-72ad-43e0-a3b0-34ec64a6993a",
   "metadata": {},
   "outputs": [
    {
     "name": "stdout",
     "output_type": "stream",
     "text": [
      "12,345.68\n"
     ]
    }
   ],
   "source": [
    "print (format(12345.6789, ',.2f'))"
   ]
  },
  {
   "cell_type": "code",
   "execution_count": 24,
   "id": "cf9278ce-68f9-408d-afea-5b52b639269a",
   "metadata": {},
   "outputs": [
    {
     "name": "stdout",
     "output_type": "stream",
     "text": [
      "1234567.89%\n"
     ]
    }
   ],
   "source": [
    "print (format(12345.6789, '.2%'))"
   ]
  },
  {
   "cell_type": "code",
   "execution_count": null,
   "id": "fbabef2f-4f17-4dfa-81a1-eba3d4853542",
   "metadata": {},
   "outputs": [],
   "source": [
    "% Formatting"
   ]
  },
  {
   "cell_type": "code",
   "execution_count": 28,
   "id": "760719eb-a523-4c35-bc16-53c56c683387",
   "metadata": {},
   "outputs": [
    {
     "name": "stdout",
     "output_type": "stream",
     "text": [
      "Value 1 is 1000\n"
     ]
    }
   ],
   "source": [
    "val1 =  1000\n",
    "print (\"Value 1 is %d\" % (val1))\n"
   ]
  },
  {
   "cell_type": "code",
   "execution_count": 26,
   "id": "a8b86b4c-a689-42b5-8f77-21e5521f6754",
   "metadata": {},
   "outputs": [
    {
     "name": "stdout",
     "output_type": "stream",
     "text": [
      "Integer value: 100, String Value: COMSC140, Floating Value:1234.57\n"
     ]
    }
   ],
   "source": [
    "val1 = 100\n",
    "val2 = 1234.5678\n",
    "strval = \"COMSC140\"\n",
    "\n",
    "print (\"Integer value: %d, String Value: %s, Floating Value:%.2f\" % (val1, strval, val2))"
   ]
  },
  {
   "cell_type": "raw",
   "id": "1e818c38-e446-427f-b02f-eb32ea65975f",
   "metadata": {},
   "source": [
    "Using the String Format"
   ]
  },
  {
   "cell_type": "code",
   "execution_count": 30,
   "id": "2af77280-4b19-44f6-a8ca-3aa9ffd6e7f4",
   "metadata": {},
   "outputs": [
    {
     "name": "stdout",
     "output_type": "stream",
     "text": [
      "Python Programming Class\n"
     ]
    }
   ],
   "source": [
    "print ( '{0} {1} Class'.format('Python', 'Programming'))"
   ]
  },
  {
   "cell_type": "code",
   "execution_count": 32,
   "id": "5e0e2318-a331-4f48-b394-4900e7c325e8",
   "metadata": {},
   "outputs": [
    {
     "name": "stdout",
     "output_type": "stream",
     "text": [
      "                   Python Programming     Class\n"
     ]
    }
   ],
   "source": [
    "print ( '{0:>25} {1:15} Class'.format('Python', 'Programming'))"
   ]
  },
  {
   "cell_type": "code",
   "execution_count": 34,
   "id": "9839589a-4606-4457-92b7-ee7696f0c42e",
   "metadata": {},
   "outputs": [
    {
     "name": "stdout",
     "output_type": "stream",
     "text": [
      "This spam is absolutely horrible.\n"
     ]
    }
   ],
   "source": [
    "print('This {food} is {adjective}.'.format(food='spam', adjective='absolutely horrible'))"
   ]
  },
  {
   "cell_type": "code",
   "execution_count": 36,
   "id": "2f5f3776-dddb-4aba-9c88-d6ec9990e77a",
   "metadata": {},
   "outputs": [
    {
     "name": "stdout",
     "output_type": "stream",
     "text": [
      "Value 1: 100 and Value 2: 200\n"
     ]
    }
   ],
   "source": [
    "v1 = 100; v2 = 200\n",
    "\n",
    "print (\"Value 1: {} and Value 2: {}\".format(v1, v2))"
   ]
  },
  {
   "cell_type": "code",
   "execution_count": 38,
   "id": "1cde67e5-a4dd-43d7-a4b6-e68928dcc1ec",
   "metadata": {},
   "outputs": [
    {
     "name": "stdout",
     "output_type": "stream",
     "text": [
      "The average is 56.67 \n",
      "The average is 56.67 \n",
      "The average is 60.00\n"
     ]
    }
   ],
   "source": [
    "avg = (100 + 50 + 20) / 3\n",
    "\n",
    "print (\"The average is {0:.2f} \".format(avg))\n",
    "print (\"The average is {:.2f} \".format(avg))\n",
    "\n",
    "print('The average is {0:.2f}'.format(59.999999))"
   ]
  },
  {
   "cell_type": "code",
   "execution_count": 40,
   "id": "3fccb2f7-e537-458f-a2bf-da0415335e04",
   "metadata": {},
   "outputs": [
    {
     "name": "stdout",
     "output_type": "stream",
     "text": [
      "12345.68\n",
      "     12345\n",
      "1.234568e+04\n",
      "1.23e+04\n",
      "1234567.89%\n"
     ]
    }
   ],
   "source": [
    "print ( format(12345.6789, '.2f'))\n",
    "print ( format(12345, '10d'))\n",
    "print ( format(12345.6789, 'e'))\n",
    "print ( format(12345.6789, '.2e'))\n",
    "print ( format(12345.6789, '.2%'))"
   ]
  },
  {
   "cell_type": "code",
   "execution_count": 42,
   "id": "729486b4-ecd3-40f5-b0f2-9d40b4e5891a",
   "metadata": {},
   "outputs": [
    {
     "name": "stdout",
     "output_type": "stream",
     "text": [
      "one\n",
      "two\n",
      "three\n",
      "one two three one/two/three\n"
     ]
    }
   ],
   "source": [
    "# 2.8 More about Data output\n",
    "\n",
    "print ('one')\n",
    "print ('two')\n",
    "print ('three')\n",
    "\n",
    "print ('one', end=' ')\n",
    "print ('two', end=' ')\n",
    "print ('three', end=' ')\n",
    "\n",
    "#? Specifying an Item Separator\n",
    "print ('one', 'two', 'three', sep='/')"
   ]
  },
  {
   "cell_type": "raw",
   "id": "9177f17f-900e-4028-8a99-79b8bae00e7c",
   "metadata": {},
   "source": [
    "PEP 498; f-string"
   ]
  },
  {
   "cell_type": "code",
   "execution_count": 44,
   "id": "f24b9b05-cd7e-464e-bb05-8ad2bd1972a9",
   "metadata": {},
   "outputs": [
    {
     "name": "stdout",
     "output_type": "stream",
     "text": [
      "The value is 10\n",
      "The value is                   10\n",
      "The value is      12.34\n",
      "The value is 12.34000\n",
      "The string value is                                 Python Programming\n"
     ]
    }
   ],
   "source": [
    "value = 10\n",
    "\n",
    "print (f'The value is {value}')\n",
    "print (f'The value is {value:20}')\n",
    "\n",
    "fvalue = 12.34\n",
    "print (f'The value is {fvalue:>10}')\n",
    "print (f'The value is {fvalue:.5f}')\n",
    "\n",
    "strval = \"Python Programming\"\n",
    "print (f\"The string value is {strval:>50}\")"
   ]
  }
 ],
 "metadata": {
  "kernelspec": {
   "display_name": "Python 3 (ipykernel)",
   "language": "python",
   "name": "python3"
  },
  "language_info": {
   "codemirror_mode": {
    "name": "ipython",
    "version": 3
   },
   "file_extension": ".py",
   "mimetype": "text/x-python",
   "name": "python",
   "nbconvert_exporter": "python",
   "pygments_lexer": "ipython3",
   "version": "3.12.4"
  }
 },
 "nbformat": 4,
 "nbformat_minor": 5
}
