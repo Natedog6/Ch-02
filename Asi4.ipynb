{
 "cells": [
  {
   "cell_type": "raw",
   "id": "f35360c9-7e42-42a7-9077-7852d7e35597",
   "metadata": {},
   "source": [
    "Problem #4.0"
   ]
  },
  {
   "cell_type": "code",
   "execution_count": 1,
   "id": "faa8b2f6-a550-4e31-a580-0d772a9d93dc",
   "metadata": {},
   "outputs": [
    {
     "ename": "KeyboardInterrupt",
     "evalue": "Interrupted by user",
     "output_type": "error",
     "traceback": [
      "\u001b[1;31m---------------------------------------------------------------------------\u001b[0m",
      "\u001b[1;31mKeyboardInterrupt\u001b[0m                         Traceback (most recent call last)",
      "Cell \u001b[1;32mIn[1], line 1\u001b[0m\n\u001b[1;32m----> 1\u001b[0m score \u001b[38;5;241m=\u001b[39m \u001b[38;5;28minput\u001b[39m(\u001b[38;5;124m'\u001b[39m\u001b[38;5;124mEnter your score\u001b[39m\u001b[38;5;124m'\u001b[39m)\n\u001b[0;32m      2\u001b[0m \u001b[38;5;28mprint\u001b[39m (\u001b[38;5;124m'\u001b[39m\u001b[38;5;124mYour score is \u001b[39m\u001b[38;5;124m'\u001b[39m, score)\n",
      "File \u001b[1;32m~\\anaconda3\\Lib\\site-packages\\ipykernel\\kernelbase.py:1262\u001b[0m, in \u001b[0;36mKernel.raw_input\u001b[1;34m(self, prompt)\u001b[0m\n\u001b[0;32m   1260\u001b[0m     msg \u001b[38;5;241m=\u001b[39m \u001b[38;5;124m\"\u001b[39m\u001b[38;5;124mraw_input was called, but this frontend does not support input requests.\u001b[39m\u001b[38;5;124m\"\u001b[39m\n\u001b[0;32m   1261\u001b[0m     \u001b[38;5;28;01mraise\u001b[39;00m StdinNotImplementedError(msg)\n\u001b[1;32m-> 1262\u001b[0m \u001b[38;5;28;01mreturn\u001b[39;00m \u001b[38;5;28mself\u001b[39m\u001b[38;5;241m.\u001b[39m_input_request(\n\u001b[0;32m   1263\u001b[0m     \u001b[38;5;28mstr\u001b[39m(prompt),\n\u001b[0;32m   1264\u001b[0m     \u001b[38;5;28mself\u001b[39m\u001b[38;5;241m.\u001b[39m_parent_ident[\u001b[38;5;124m\"\u001b[39m\u001b[38;5;124mshell\u001b[39m\u001b[38;5;124m\"\u001b[39m],\n\u001b[0;32m   1265\u001b[0m     \u001b[38;5;28mself\u001b[39m\u001b[38;5;241m.\u001b[39mget_parent(\u001b[38;5;124m\"\u001b[39m\u001b[38;5;124mshell\u001b[39m\u001b[38;5;124m\"\u001b[39m),\n\u001b[0;32m   1266\u001b[0m     password\u001b[38;5;241m=\u001b[39m\u001b[38;5;28;01mFalse\u001b[39;00m,\n\u001b[0;32m   1267\u001b[0m )\n",
      "File \u001b[1;32m~\\anaconda3\\Lib\\site-packages\\ipykernel\\kernelbase.py:1305\u001b[0m, in \u001b[0;36mKernel._input_request\u001b[1;34m(self, prompt, ident, parent, password)\u001b[0m\n\u001b[0;32m   1302\u001b[0m \u001b[38;5;28;01mexcept\u001b[39;00m \u001b[38;5;167;01mKeyboardInterrupt\u001b[39;00m:\n\u001b[0;32m   1303\u001b[0m     \u001b[38;5;66;03m# re-raise KeyboardInterrupt, to truncate traceback\u001b[39;00m\n\u001b[0;32m   1304\u001b[0m     msg \u001b[38;5;241m=\u001b[39m \u001b[38;5;124m\"\u001b[39m\u001b[38;5;124mInterrupted by user\u001b[39m\u001b[38;5;124m\"\u001b[39m\n\u001b[1;32m-> 1305\u001b[0m     \u001b[38;5;28;01mraise\u001b[39;00m \u001b[38;5;167;01mKeyboardInterrupt\u001b[39;00m(msg) \u001b[38;5;28;01mfrom\u001b[39;00m \u001b[38;5;28;01mNone\u001b[39;00m\n\u001b[0;32m   1306\u001b[0m \u001b[38;5;28;01mexcept\u001b[39;00m \u001b[38;5;167;01mException\u001b[39;00m:\n\u001b[0;32m   1307\u001b[0m     \u001b[38;5;28mself\u001b[39m\u001b[38;5;241m.\u001b[39mlog\u001b[38;5;241m.\u001b[39mwarning(\u001b[38;5;124m\"\u001b[39m\u001b[38;5;124mInvalid Message:\u001b[39m\u001b[38;5;124m\"\u001b[39m, exc_info\u001b[38;5;241m=\u001b[39m\u001b[38;5;28;01mTrue\u001b[39;00m)\n",
      "\u001b[1;31mKeyboardInterrupt\u001b[0m: Interrupted by user"
     ]
    }
   ],
   "source": [
    "score = input('Enter your score')\n",
    "print ('Your score is ', score)"
   ]
  },
  {
   "cell_type": "code",
   "execution_count": null,
   "id": "c7476e86-7686-43e4-b323-78c0ff600f20",
   "metadata": {},
   "outputs": [],
   "source": [
    "score = input('Enter your score')\n",
    "final_score = score + 100;\n",
    "\n",
    "print (final_score)"
   ]
  },
  {
   "cell_type": "code",
   "execution_count": null,
   "id": "b0ab1ba1-7ba2-41e6-b104-35ab3b53aa10",
   "metadata": {},
   "outputs": [],
   "source": [
    "score - input ('Enter your score')\n",
    "final_score = int(score) + 100;\n",
    "print (f'Final Score is {final_score:10}')"
   ]
  },
  {
   "cell_type": "raw",
   "id": "a3d9bea8-b904-41ac-9cbd-b8276c49604f",
   "metadata": {},
   "source": [
    "Problem #4.1"
   ]
  },
  {
   "cell_type": "code",
   "execution_count": null,
   "id": "5ac70b6b-494f-49ca-b18e-57a972772272",
   "metadata": {},
   "outputs": [],
   "source": [
    "name = input (\"Enter your name: \")\n",
    "score = int(input(\"Enter your score: \"))\n",
    "print(f\"Name: {name}, Score: {score}\")"
   ]
  },
  {
   "cell_type": "raw",
   "id": "17c5904a-c9f0-44dd-b46e-60af9c8e569d",
   "metadata": {},
   "source": [
    "Problem #4.2"
   ]
  },
  {
   "cell_type": "code",
   "execution_count": null,
   "id": "359ae479-e461-4e08-b9e3-3700d1e40b9b",
   "metadata": {},
   "outputs": [],
   "source": [
    "score1 = int(input('Enter the score 1'))\n",
    "score2 = int(input('Enter the scrore 2'))\n",
    "summation = score1 + score2\n",
    "average = summation / 2\n",
    "print (f\"Score1 : {score1}, Score2: {score2}\")\n",
    "print (f\"Summation: {summation}, Average: {average}\")"
   ]
  },
  {
   "cell_type": "raw",
   "id": "9a986abe-e29b-437e-8840-cb09a6fe7dd2",
   "metadata": {},
   "source": [
    "Problem #4.3"
   ]
  },
  {
   "cell_type": "code",
   "execution_count": 14,
   "id": "cbb97f6a-c17e-470a-b23a-fe1c58a8dd40",
   "metadata": {},
   "outputs": [
    {
     "name": "stdout",
     "output_type": "stream",
     "text": [
      "Regular Price:      100.0, Discount Rate:                            0.3, Final Price: 70.0\n"
     ]
    }
   ],
   "source": [
    "rprice = 100.00\n",
    "drate = 0.30\n",
    "fprice = rprice * (1 - drate)\n",
    "print(f\"Regular Price: {rprice:10}, Discount Rate: {drate:30}, Final Price: {fprice}\")"
   ]
  },
  {
   "cell_type": "raw",
   "id": "57a74b9f-e9bf-40db-818a-5ce70e36181c",
   "metadata": {},
   "source": [
    "Problem #4.4"
   ]
  },
  {
   "cell_type": "code",
   "execution_count": 33,
   "id": "a66cb167-85e4-4f54-b9e3-53f8d1ae2cd2",
   "metadata": {},
   "outputs": [
    {
     "name": "stdout",
     "output_type": "stream",
     "text": [
      "Regular Price:      100.0, Discount Rate:                            0.3, Final Price: 70.0\n"
     ]
    }
   ],
   "source": [
    "rprice= 100.00\n",
    "drate = 0.30\n",
    "fprice = rprice * (1 - drate)\n",
    "print(f'Regular Price: {rprice: 10}, Discount Rate: {drate:30}, Final Price: {fprice}')"
   ]
  },
  {
   "cell_type": "raw",
   "id": "032dc935-d250-44a5-a2c8-f715eed3591b",
   "metadata": {},
   "source": [
    "Problem #4.5"
   ]
  },
  {
   "cell_type": "code",
   "execution_count": 49,
   "id": "913107e9-ae1d-4d88-913c-ce4937c100cf",
   "metadata": {},
   "outputs": [
    {
     "name": "stdout",
     "output_type": "stream",
     "text": [
      "Inputted Celsius:      25.00, Converted Fahrenheit:      77.00\n"
     ]
    }
   ],
   "source": [
    "celsius = 25.0\n",
    "fahrenheit = (celsius * 9/5) + 32\n",
    "print(f'Inputted Celsius: {celsius:10.2f}, Converted Fahrenheit: {fahrenheit:10.2f}')"
   ]
  },
  {
   "cell_type": "raw",
   "id": "339babf0-b10e-4bab-92e5-0f84df1afd98",
   "metadata": {},
   "source": [
    "Problem #4.6"
   ]
  },
  {
   "cell_type": "code",
   "execution_count": 63,
   "id": "ffdc0ec2-440d-467b-8058-3b3d8c3ee0a0",
   "metadata": {},
   "outputs": [
    {
     "name": "stdin",
     "output_type": "stream",
     "text": [
      "Enter the last name:  Loepz\n",
      "Enter the first name:  e\n"
     ]
    },
    {
     "ename": "NameError",
     "evalue": "name 'Lname' is not defined",
     "output_type": "error",
     "traceback": [
      "\u001b[1;31m---------------------------------------------------------------------------\u001b[0m",
      "\u001b[1;31mNameError\u001b[0m                                 Traceback (most recent call last)",
      "Cell \u001b[1;32mIn[63], line 3\u001b[0m\n\u001b[0;32m      1\u001b[0m fname \u001b[38;5;241m=\u001b[39m \u001b[38;5;28minput\u001b[39m(\u001b[38;5;124m'\u001b[39m\u001b[38;5;124mEnter the last name: \u001b[39m\u001b[38;5;124m'\u001b[39m)\n\u001b[0;32m      2\u001b[0m lname \u001b[38;5;241m=\u001b[39m \u001b[38;5;28minput\u001b[39m(\u001b[38;5;124m'\u001b[39m\u001b[38;5;124mEnter the first name: \u001b[39m\u001b[38;5;124m'\u001b[39m)\n\u001b[1;32m----> 3\u001b[0m (\u001b[38;5;124mf\u001b[39m\u001b[38;5;124m'\u001b[39m\u001b[38;5;124m First name: \u001b[39m\u001b[38;5;132;01m{\u001b[39;00mfname\u001b[38;5;132;01m}\u001b[39;00m\u001b[38;5;124m \u001b[39m\u001b[38;5;130;01m\\n\u001b[39;00m\u001b[38;5;124m Last name: \u001b[39m\u001b[38;5;132;01m{\u001b[39;00mLname\u001b[38;5;132;01m}\u001b[39;00m\u001b[38;5;124m'\u001b[39m)\n",
      "\u001b[1;31mNameError\u001b[0m: name 'Lname' is not defined"
     ]
    }
   ],
   "source": [
    "fname = input('Enter the last name: ')\n",
    "lname = input('Enter the first name: ')\n",
    "(f' First name: {fname} \\n Last name: {Lname}')"
   ]
  },
  {
   "cell_type": "code",
   "execution_count": null,
   "id": "65de174f-ed43-4bee-a686-9761e5968175",
   "metadata": {},
   "outputs": [],
   "source": []
  }
 ],
 "metadata": {
  "kernelspec": {
   "display_name": "Python 3 (ipykernel)",
   "language": "python",
   "name": "python3"
  },
  "language_info": {
   "codemirror_mode": {
    "name": "ipython",
    "version": 3
   },
   "file_extension": ".py",
   "mimetype": "text/x-python",
   "name": "python",
   "nbconvert_exporter": "python",
   "pygments_lexer": "ipython3",
   "version": "3.12.4"
  }
 },
 "nbformat": 4,
 "nbformat_minor": 5
}
