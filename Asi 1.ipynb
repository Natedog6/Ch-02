{
 "cells": [
  {
   "cell_type": "code",
   "execution_count": 1,
   "id": "21cc7f76-e4ef-4162-9b04-857ec1dd11f9",
   "metadata": {},
   "outputs": [
    {
     "data": {
      "text/plain": [
       "30"
      ]
     },
     "execution_count": 1,
     "metadata": {},
     "output_type": "execute_result"
    }
   ],
   "source": [
    "10 + 20"
   ]
  },
  {
   "cell_type": "code",
   "execution_count": 2,
   "id": "8f434cce-1abd-4cab-bd51-9faf283abb42",
   "metadata": {},
   "outputs": [
    {
     "data": {
      "text/plain": [
       "30.0"
      ]
     },
     "execution_count": 2,
     "metadata": {},
     "output_type": "execute_result"
    }
   ],
   "source": [
    "10.0 + 20.0"
   ]
  },
  {
   "cell_type": "code",
   "execution_count": 3,
   "id": "fcff730c-da76-4129-9616-1f9be88f971b",
   "metadata": {},
   "outputs": [
    {
     "data": {
      "text/plain": [
       "200"
      ]
     },
     "execution_count": 3,
     "metadata": {},
     "output_type": "execute_result"
    }
   ],
   "source": [
    "10 * 20"
   ]
  },
  {
   "cell_type": "code",
   "execution_count": 4,
   "id": "547c2d80-b3da-4239-8cc6-d303564ac6e1",
   "metadata": {},
   "outputs": [
    {
     "data": {
      "text/plain": [
       "0.5"
      ]
     },
     "execution_count": 4,
     "metadata": {},
     "output_type": "execute_result"
    }
   ],
   "source": [
    "10 / 20"
   ]
  },
  {
   "cell_type": "code",
   "execution_count": 5,
   "id": "cad251bb-b285-4b47-8f62-fff3696ccd9a",
   "metadata": {},
   "outputs": [
    {
     "data": {
      "text/plain": [
       "0"
      ]
     },
     "execution_count": 5,
     "metadata": {},
     "output_type": "execute_result"
    }
   ],
   "source": [
    "10 // 20"
   ]
  },
  {
   "cell_type": "code",
   "execution_count": 6,
   "id": "5312ef45-babc-4e6f-a678-a2b5abbe8f29",
   "metadata": {},
   "outputs": [
    {
     "data": {
      "text/plain": [
       "2"
      ]
     },
     "execution_count": 6,
     "metadata": {},
     "output_type": "execute_result"
    }
   ],
   "source": [
    "5 * 10 // 20"
   ]
  },
  {
   "cell_type": "code",
   "execution_count": 7,
   "id": "e8f14a7c-f71b-4590-883c-03bc5ae8d4a0",
   "metadata": {},
   "outputs": [
    {
     "data": {
      "text/plain": [
       "150"
      ]
     },
     "execution_count": 7,
     "metadata": {},
     "output_type": "execute_result"
    }
   ],
   "source": [
    "5 * 30 + 10 // 20 "
   ]
  },
  {
   "cell_type": "code",
   "execution_count": 8,
   "id": "0d8f2911-375c-46a8-9359-5d68ee9defa3",
   "metadata": {},
   "outputs": [
    {
     "data": {
      "text/plain": [
       "75.0"
      ]
     },
     "execution_count": 8,
     "metadata": {},
     "output_type": "execute_result"
    }
   ],
   "source": [
    "5 * 30 / 2"
   ]
  },
  {
   "cell_type": "code",
   "execution_count": 9,
   "id": "a7baf3d3-e616-4e81-969f-067fdf98f812",
   "metadata": {},
   "outputs": [
    {
     "data": {
      "text/plain": [
       "3"
      ]
     },
     "execution_count": 9,
     "metadata": {},
     "output_type": "execute_result"
    }
   ],
   "source": [
    "75 // 20"
   ]
  },
  {
   "cell_type": "code",
   "execution_count": 10,
   "id": "b301ac9c-1c41-4365-b22f-ecaa04092844",
   "metadata": {},
   "outputs": [
    {
     "data": {
      "text/plain": [
       "3.0"
      ]
     },
     "execution_count": 10,
     "metadata": {},
     "output_type": "execute_result"
    }
   ],
   "source": [
    "5 * 30 / 2 // 20 "
   ]
  },
  {
   "cell_type": "code",
   "execution_count": 11,
   "id": "a620d70a-f9cd-4e6e-832e-f25dcbec5044",
   "metadata": {},
   "outputs": [
    {
     "data": {
      "text/plain": [
       "609.5999999999999"
      ]
     },
     "execution_count": 11,
     "metadata": {},
     "output_type": "execute_result"
    }
   ],
   "source": [
    "24.0 * 25.4"
   ]
  },
  {
   "cell_type": "code",
   "execution_count": 12,
   "id": "1988e8f9-eb81-4a70-a7d8-bc7922900953",
   "metadata": {},
   "outputs": [
    {
     "data": {
      "text/plain": [
       "11.5"
      ]
     },
     "execution_count": 12,
     "metadata": {},
     "output_type": "execute_result"
    }
   ],
   "source": [
    "23 / 2"
   ]
  },
  {
   "cell_type": "code",
   "execution_count": 13,
   "id": "60ac4e65-3726-4649-89ca-73a3cb4a6b00",
   "metadata": {},
   "outputs": [
    {
     "data": {
      "text/plain": [
       "5"
      ]
     },
     "execution_count": 13,
     "metadata": {},
     "output_type": "execute_result"
    }
   ],
   "source": [
    "100 // 20"
   ]
  }
 ],
 "metadata": {
  "kernelspec": {
   "display_name": "Python 3 (ipykernel)",
   "language": "python",
   "name": "python3"
  },
  "language_info": {
   "codemirror_mode": {
    "name": "ipython",
    "version": 3
   },
   "file_extension": ".py",
   "mimetype": "text/x-python",
   "name": "python",
   "nbconvert_exporter": "python",
   "pygments_lexer": "ipython3",
   "version": "3.12.4"
  }
 },
 "nbformat": 4,
 "nbformat_minor": 5
}
